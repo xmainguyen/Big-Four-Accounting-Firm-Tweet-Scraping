{
 "cells": [
  {
   "cell_type": "markdown",
   "metadata": {},
   "source": [
    "# Scraping Tweets From Twitter Using SnScrape\n",
    "\n",
    "- We scrape tweets using snscrape and using pandas library for data manipulation\n"
   ]
  },
  {
   "cell_type": "code",
   "execution_count": null,
   "metadata": {},
   "outputs": [],
   "source": [
    "# Run the pip install command below if you don't already have the library to install\n",
    "!pip install git+https://github.com/JustAnotherArchivist/snscrape.git"
   ]
  },
  {
   "cell_type": "code",
   "execution_count": null,
   "metadata": {},
   "outputs": [],
   "source": [
    "# Run the below command if you don't already have Pandas\n",
    "!pip install pandas"
   ]
  },
  {
   "cell_type": "code",
   "execution_count": null,
   "metadata": {},
   "outputs": [],
   "source": [
    "# Import packages\n",
    "import snscrape.modules.twitter as sntwitter\n",
    "import pandas as pd\n",
    "import time\n",
    "import json"
   ]
  },
  {
   "cell_type": "markdown",
   "metadata": {},
   "source": [
    "## Scrape user's tweets\n",
    "\n",
    "- Change maxTweets to limit number of tweets scraped and change the userID to scrape from user timeline\n",
    "\n",
    "- Note: The number of a user tweets displayed include the number of tweets being tweeted by the user and the number of tweets retweeted by the user. However, due to the nature of twitter, we can only collect tweets written by the user, not the one being tweeted by that user. "
   ]
  },
  {
   "cell_type": "code",
   "execution_count": null,
   "metadata": {},
   "outputs": [],
   "source": [
    "# Setting variables to be used below\n",
    "maxTweets = 30000\n",
    "\n",
    "# Creating list to append tweet data to\n",
    "tweets_list = []\n",
    "\n",
    "# Using TwitterSearchScraper to scrape data and append tweets to list\n",
    "for i,tweet in enumerate(sntwitter.TwitterSearchScraper('from:PwCUS').get_items()):\n",
    "# use this to specify a specific timeframe to scrape the tweets\n",
    "#for i,tweet in enumerate(sntwitter.TwitterSearchScraper('from:PwCUS since:2008-01-01 until:2014-03-01').get_items()):\n",
    "    if i > maxTweets:\n",
    "        break\n",
    "    if i % 100 == 0:\n",
    "        print(i)\n",
    "    tweets_list.append([tweet.user.username, tweet.date, tweet.id, tweet.content,\n",
    "                         tweet.replyCount, tweet.retweetCount, tweet.likeCount,\n",
    "                         tweet.quoteCount, tweet.mentionedUsers,\n",
    "                         tweet.url])\n",
    "    time.sleep(0.2)"
   ]
  },
  {
   "cell_type": "code",
   "execution_count": null,
   "metadata": {},
   "outputs": [],
   "source": [
    "# Creating a dataframe from the tweets list above\n",
    "tweets_df = pd.DataFrame(tweets_list, columns=['UserID','DateTime', 'TweetID', 'Text',\n",
    "                                                'ReplyCount','RetweetCount','LikeCount',\n",
    "                                                'QuoteCount','MentionedUsers','Links'])\n",
    "tweets_df"
   ]
  },
  {
   "cell_type": "code",
   "execution_count": null,
   "metadata": {},
   "outputs": [],
   "source": [
    "Date = pd.to_datetime(tweets_df[\"DateTime\"]).dt.date\n",
    "Time = pd.to_datetime(tweets_df[\"DateTime\"]).dt.time\n",
    "tweets_df.insert(1, \"Date\", Date)\n",
    "tweets_df.insert(2, \"Time\", Time)\n",
    "tweets_df = tweets_df.drop([\"DateTime\"],axis=1)\n",
    "tweets_df"
   ]
  },
  {
   "cell_type": "code",
   "execution_count": null,
   "metadata": {},
   "outputs": [],
   "source": [
    "# Export dataframe into a CSV\n",
    "tweets_df.to_csv('PwCUS-tweets.csv', sep=',', index=False)"
   ]
  },
  {
   "cell_type": "markdown",
   "metadata": {},
   "source": [
    "## Scrape tweets from text search query\n",
    "\n",
    "- Change maxTweets to limit number of tweets scraped and change the userID to scrape from user timeline.\n",
    "- Use time.sleep() to avoid getting blocked by Twitter website anti web crawlers"
   ]
  },
  {
   "cell_type": "code",
   "execution_count": null,
   "metadata": {},
   "outputs": [],
   "source": [
    "# Setting variables to be used below\n",
    "maxTweets = 1000000\n",
    "\n",
    "# Creating list to append tweet data to\n",
    "tweets_list = []\n",
    "\n",
    "# Using TwitterSearchScraper to scrape data and append tweets to list\n",
    "for i,tweet in enumerate(sntwitter.TwitterSearchScraper('@PwCUS since:2009-03-01 until:2021-04-20').get_items()):\n",
    "    if i > maxTweets:\n",
    "        break\n",
    "    if i % 100 == 0:\n",
    "        print(i)\n",
    "    tweets_list.append([tweet.user.username, tweet.date, tweet.id, tweet.content,\n",
    "                         tweet.replyCount, tweet.retweetCount, tweet.likeCount,\n",
    "                         tweet.quoteCount, tweet.mentionedUsers,\n",
    "                         tweet.url])\n",
    "    #time.sleep(0.01)"
   ]
  },
  {
   "cell_type": "code",
   "execution_count": null,
   "metadata": {},
   "outputs": [],
   "source": [
    "# Creating a dataframe from the tweets list above\n",
    "tweets_df = pd.DataFrame(tweets_list, columns=['UserID','DateTime', 'TweetID', 'Text',\n",
    "                                                'ReplyCount','RetweetCount','LikeCount',\n",
    "                                                'QuoteCount','MentionedUsers','Links'])\n",
    "tweets_df"
   ]
  },
  {
   "cell_type": "code",
   "execution_count": null,
   "metadata": {},
   "outputs": [],
   "source": [
    "Date = pd.to_datetime(tweets_df[\"DateTime\"]).dt.date\n",
    "Time = pd.to_datetime(tweets_df[\"DateTime\"]).dt.time\n",
    "tweets_df.insert(1, \"Date\", Date)\n",
    "tweets_df.insert(2, \"Time\", Time)\n",
    "tweets_df = tweets_df.drop([\"DateTime\"],axis=1)\n",
    "tweets_df"
   ]
  },
  {
   "cell_type": "code",
   "execution_count": null,
   "metadata": {},
   "outputs": [],
   "source": [
    "# Export dataframe into a CSV\n",
    "tweets_df.to_csv('@PwCUS.csv', sep=',', index=False)"
   ]
  }
 ],
 "metadata": {
  "kernelspec": {
   "display_name": "Python 3",
   "language": "python",
   "name": "python3"
  },
  "language_info": {
   "codemirror_mode": {
    "name": "ipython",
    "version": 3
   },
   "file_extension": ".py",
   "mimetype": "text/x-python",
   "name": "python",
   "nbconvert_exporter": "python",
   "pygments_lexer": "ipython3",
   "version": "3.8.5"
  }
 },
 "nbformat": 4,
 "nbformat_minor": 4
}
